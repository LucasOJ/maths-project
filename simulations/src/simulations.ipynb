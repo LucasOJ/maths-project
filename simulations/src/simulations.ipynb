{
 "cells": [
  {
   "cell_type": "code",
   "execution_count": null,
   "metadata": {},
   "outputs": [],
   "source": [
    "from continuous_simulations import spread_continuous_rumour\n",
    "from networkx.classes.graph import Graph\n",
    "import networkx as nx\n",
    "import numpy as np\n",
    "import matplotlib.pylab as plt\n",
    "import matplotlib.ticker as ticker\n",
    "from display_simulations import display_simulation\n",
    "\n",
    "from matplotlib import rc\n",
    "rc('animation', html='jshtml')\n",
    "rc('text', usetex='True')\n",
    "%matplotlib inline"
   ]
  },
  {
   "cell_type": "code",
   "execution_count": null,
   "metadata": {},
   "outputs": [],
   "source": [
    "c = 1.5\n",
    "c_0 = 1/2 + 1/np.exp(1)\n",
    "C = (10*c + 20)/c_0"
   ]
  },
  {
   "cell_type": "code",
   "execution_count": null,
   "metadata": {},
   "outputs": [],
   "source": [
    "DEFAULT_MAX_NODES = 300\n",
    "x = np.linspace(1, DEFAULT_MAX_NODES, 2*DEFAULT_MAX_NODES)"
   ]
  },
  {
   "cell_type": "code",
   "execution_count": null,
   "metadata": {},
   "outputs": [],
   "source": [
    "def spreading_scaling_simulation(graph_generator, min_nodes = 10, max_nodes = DEFAULT_MAX_NODES, step = 10, runs_per_size = 10):\n",
    "    results = []\n",
    "    means = []\n",
    "    for n in range(min_nodes, max_nodes+1, step):\n",
    "        spreading_times = [spread_continuous_rumour(graph_generator, n) for i in range(runs_per_size)]\n",
    "        # results.append((n, np.median(spreading_times)))\n",
    "        spreading_time_tuples = [(n, spreading_time) for spreading_time in spreading_times]\n",
    "        results.extend(spreading_time_tuples)\n",
    "        means.append((n, np.mean(spreading_times)))\n",
    "    return results, means"
   ]
  },
  {
   "cell_type": "markdown",
   "metadata": {},
   "source": [
    "### Ring Graph"
   ]
  },
  {
   "cell_type": "code",
   "execution_count": null,
   "metadata": {},
   "outputs": [],
   "source": [
    "def ring_generator(number_of_nodes, timestep, informed_nodes) -> Graph:\n",
    "    return nx.cycle_graph(number_of_nodes)\n",
    "\n",
    "results, means = spreading_scaling_simulation(ring_generator, runs_per_size=10, max_nodes=300)\n",
    "\n",
    "plt.figure(dpi=400)\n",
    "plt.scatter(*zip(*results))\n",
    "plt.scatter(*zip(*means), c='r')\n",
    "plt.xlabel(\"Number of nodes\")\n",
    "plt.ylabel(\"Spreading Time\")\n",
    "f = C * x * np.log(x) / 2\n",
    "plt.plot(x, f, 'g')\n",
    "plt.show()"
   ]
  },
  {
   "cell_type": "markdown",
   "metadata": {},
   "source": [
    "### Shuffled Ring Graph"
   ]
  },
  {
   "cell_type": "code",
   "execution_count": null,
   "metadata": {},
   "outputs": [],
   "source": [
    "def shuffled_ring_generator(number_of_nodes, timestep, informed_nodes) -> Graph:\n",
    "    node_permutation = np.random.permutation(number_of_nodes)\n",
    "    return nx.cycle_graph(node_permutation)\n",
    "\n",
    "results, means = spreading_scaling_simulation(shuffled_ring_generator, runs_per_size=30, max_nodes=500)\n",
    "\n",
    "plt.figure(dpi=400)\n",
    "plt.scatter(*zip(*results))\n",
    "plt.scatter(*zip(*means), c='r')\n",
    "plt.xlabel(\"Number of nodes\")\n",
    "plt.ylabel(\"Spreading Time\")\n",
    "# f = C * x * np.log(x) / 2\n",
    "# plt.plot(x, f, 'g')\n",
    "plt.show()"
   ]
  },
  {
   "cell_type": "markdown",
   "metadata": {},
   "source": [
    "### Complete Graph"
   ]
  },
  {
   "cell_type": "code",
   "execution_count": null,
   "metadata": {},
   "outputs": [],
   "source": [
    "def complete_generator(number_of_nodes, timestep, informed_nodes) -> Graph:\n",
    "    return nx.complete_graph(number_of_nodes)\n",
    "\n",
    "results, means = spreading_scaling_simulation(complete_generator)\n",
    "\n",
    "plt.scatter(*zip(*results))\n",
    "plt.scatter(*zip(*means), c='r')\n",
    "f = 2 * C * np.log(x)\n",
    "plt.plot(x, f, 'g')\n",
    "plt.show()"
   ]
  },
  {
   "cell_type": "markdown",
   "metadata": {},
   "source": [
    "### ER Random Graph"
   ]
  },
  {
   "cell_type": "code",
   "execution_count": null,
   "metadata": {},
   "outputs": [],
   "source": [
    "def ER_generator(number_of_nodes, timestep, informed_nodes) -> Graph:\n",
    "    p = 1/np.log(number_of_nodes) # TODO: Check if this works - log log scaling gives same result? seems too fast\n",
    "    return nx.fast_gnp_random_graph(number_of_nodes, p)\n",
    "\n",
    "results, means = spreading_scaling_simulation(ER_generator)\n",
    "\n",
    "plt.scatter(*zip(*results))\n",
    "plt.scatter(*zip(*means), c='r')\n",
    "plt.show()"
   ]
  },
  {
   "cell_type": "markdown",
   "metadata": {},
   "source": [
    "### Static Star Graph (Initial node not hub)"
   ]
  },
  {
   "cell_type": "code",
   "execution_count": null,
   "metadata": {},
   "outputs": [],
   "source": [
    "def static_star_generator(number_of_nodes, timestep, informed_nodes) -> Graph:\n",
    "    # Generates list [1,2, ..., number_of_nodes - 1, 0]\n",
    "    # First node in list is hub\n",
    "    nodes = [(i+1) % number_of_nodes for i in range(number_of_nodes)]\n",
    "\n",
    "    return nx.star_graph(nodes)\n",
    "\n",
    "results, means = spreading_scaling_simulation(static_star_generator)\n",
    "\n",
    "plt.scatter(*zip(*results))\n",
    "plt.scatter(*zip(*means), c='r')\n",
    "f = C * np.log(x)\n",
    "plt.plot(x, f, 'r')\n",
    "plt.show()"
   ]
  },
  {
   "cell_type": "markdown",
   "metadata": {},
   "source": [
    "### Adversarial Star Graph "
   ]
  },
  {
   "cell_type": "code",
   "execution_count": null,
   "metadata": {},
   "outputs": [],
   "source": [
    "def adversarial_star_generator(number_of_nodes, timestep, informed_nodes) -> Graph:\n",
    "    uninformed_nodes = [v for v in range(number_of_nodes) if not (v in informed_nodes)]\n",
    "    if len(informed_nodes) <= number_of_nodes / 2:\n",
    "        node_set = uninformed_nodes + list(informed_nodes)\n",
    "    else:\n",
    "        node_set = list(informed_nodes) + uninformed_nodes\n",
    "    return nx.star_graph(node_set)\n",
    "\n",
    "results, means = spreading_scaling_simulation(adversarial_star_generator)\n",
    "\n",
    "plt.scatter(*zip(*results))\n",
    "plt.scatter(*zip(*means), c='r')\n",
    "f = C * np.log(x)\n",
    "plt.plot(x, f, 'r')\n",
    "plt.show()"
   ]
  },
  {
   "cell_type": "code",
   "execution_count": null,
   "metadata": {},
   "outputs": [],
   "source": [
    "events = spread_continuous_rumour(adversarial_star_generator, 10, enable_event_log=True)\n",
    "# display_simulation(events)"
   ]
  },
  {
   "cell_type": "markdown",
   "metadata": {},
   "source": [
    "TODO: Is adverasial graph generator working properly?"
   ]
  },
  {
   "cell_type": "markdown",
   "metadata": {},
   "source": [
    "### Shuffled Star Graph"
   ]
  },
  {
   "cell_type": "code",
   "execution_count": null,
   "metadata": {},
   "outputs": [],
   "source": [
    "def shuffled_star_generator(number_of_nodes, timestep, informed_nodes) -> Graph:\n",
    "    node_permutation = np.random.permutation(number_of_nodes)\n",
    "    return nx.star_graph(node_permutation)\n",
    "\n",
    "results, means = spreading_scaling_simulation(shuffled_star_generator)\n",
    "\n",
    "plt.scatter(*zip(*results))\n",
    "plt.scatter(*zip(*means), c='r')\n",
    "plt.show()"
   ]
  },
  {
   "cell_type": "markdown",
   "metadata": {},
   "source": [
    "### Complete Graph String"
   ]
  },
  {
   "cell_type": "code",
   "execution_count": null,
   "metadata": {},
   "outputs": [],
   "source": [
    "SUBGRAPH_SIZE = 10\n",
    "def complete_string_generator(number_of_nodes, timestep, informed_nodes):\n",
    "    number_of_subgraphs = int(number_of_nodes / SUBGRAPH_SIZE)\n",
    "    complete_graphs = [nx.complete_graph(SUBGRAPH_SIZE) for i in range(number_of_subgraphs)]\n",
    "    g = nx.disjoint_union_all(complete_graphs)\n",
    "    for i in range(number_of_subgraphs - 1):\n",
    "        g.add_edge(i * SUBGRAPH_SIZE, (i+1)*SUBGRAPH_SIZE + SUBGRAPH_SIZE - 1)\n",
    "    return g\n",
    "\n",
    "results, means = spreading_scaling_simulation(complete_string_generator, step=50)\n",
    "\n",
    "plt.scatter(*zip(*results))\n",
    "plt.scatter(*zip(*means), c='r')\n",
    "plt.show()"
   ]
  },
  {
   "cell_type": "markdown",
   "metadata": {},
   "source": [
    "## Figures"
   ]
  },
  {
   "cell_type": "code",
   "execution_count": null,
   "metadata": {},
   "outputs": [],
   "source": [
    "fig, ax = plt.subplots()\n",
    "fig.set_dpi(400)\n",
    "ax.scatter([1,2,3,5,6],[1.2,1.5,1.6, 1.9, 2.3])\n",
    "ax.xaxis.set_ticks([1,2,3,4,5,6])\n",
    "xlabels = [\"$T_{i-1}$\",\"$T_{i-1} + 1$\", \"$T_{i-1} + 2$\", \"\\dots\", \"$T_i - 1$\", \"$T_i$\"]\n",
    "ax.set_xticklabels(xlabels)\n",
    "\n",
    "ax.set_xlim(0.5,7)\n",
    "ax.set_ylim(0,4)\n",
    "\n",
    "ylabels = [\"$h_{i-1}$\", \"$h_i$\", \"$h_{i+1}$\"]\n",
    "ax.yaxis.set_ticks(list(range(1, len(ylabels) + 1)))\n",
    "ax.set_yticklabels(ylabels)\n",
    "\n",
    "ax.set_xlabel(\"$t$\")\n",
    "ax.set_ylabel(\"$|I_t|$\")\n",
    "\n",
    "for i in [1,2,3]:\n",
    "    ax.axhline(i, color='grey', linewidth=0.5)\n",
    "plt.show()"
   ]
  },
  {
   "cell_type": "code",
   "execution_count": null,
   "metadata": {},
   "outputs": [],
   "source": [
    "fig, ax = plt.subplots()\n",
    "fig.set_dpi(400)\n",
    "ax.scatter([1,2.3],[1.7,5.4])\n",
    "\n",
    "xlabels = [\"$T_{i-1}$\",\"$T_{i-1} + 1 = T_i = T_{i+1}  = \\dots = T_j$\"]\n",
    "ax.xaxis.set_ticks([1,2.3])\n",
    "ax.set_xticklabels(xlabels)\n",
    "\n",
    "ax.set_xlim(0.5,3)\n",
    "ax.set_ylim(0,7)\n",
    "\n",
    "ylabels = [\"$h_{i-1}$\", \"$h_i$\", \"$h_{i+1}$\", \"$\\dots$\", \"$h_j$\", \"$h_{j+1}$\"]\n",
    "ax.yaxis.set_ticks(list(range(1, len(ylabels) + 1)))\n",
    "ax.set_yticklabels(ylabels)\n",
    "\n",
    "ax.set_xlabel(\"Time, $t$\")\n",
    "ax.set_ylabel(\"Number of informed nodes at time $t$, $|I_t|$\")\n",
    "\n",
    "for i in [1,2,3,5,6]:\n",
    "    ax.axhline(i, color='grey', linewidth=0.5)\n",
    "plt.show()"
   ]
  }
 ],
 "metadata": {
  "interpreter": {
   "hash": "c997d4da5b00dd4ce73a41e3ace39d136355bf5b5b5fa33c434012ee64a8d7cd"
  },
  "kernelspec": {
   "display_name": "Python 3.8.10 ('simulations': venv)",
   "language": "python",
   "name": "python3"
  },
  "language_info": {
   "codemirror_mode": {
    "name": "ipython",
    "version": 3
   },
   "file_extension": ".py",
   "mimetype": "text/x-python",
   "name": "python",
   "nbconvert_exporter": "python",
   "pygments_lexer": "ipython3",
   "version": "3.8.10"
  },
  "orig_nbformat": 4
 },
 "nbformat": 4,
 "nbformat_minor": 2
}
