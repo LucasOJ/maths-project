{
 "cells": [
  {
   "cell_type": "code",
   "execution_count": null,
   "metadata": {},
   "outputs": [],
   "source": [
    "from networkx.classes.graph import Graph\n",
    "import networkx as nx\n",
    "import numpy as np\n",
    "import matplotlib.pylab as plt\n",
    "import scipy.stats as stats\n",
    "import matplotlib.ticker as ticker\n",
    "\n",
    "from matplotlib import rc\n",
    "rc('text', usetex='True')\n",
    "%matplotlib inline"
   ]
  },
  {
   "cell_type": "markdown",
   "metadata": {},
   "source": [
    "## Stochastic Domination"
   ]
  },
  {
   "cell_type": "code",
   "execution_count": null,
   "metadata": {},
   "outputs": [],
   "source": [
    "x = np.linspace(0, 10, 300)\n",
    "y1 = stats.gamma.pdf(x, a=5, scale=1/3)\n",
    "y2 = stats.gamma.pdf(x, a=9, scale=1/2)\n",
    "plt.plot(x,y1)\n",
    "plt.plot(x,y2)\n",
    "plt.xlabel(\"$x$\", fontsize=15)\n",
    "plt.ylabel(\"Density $p(x)$\", fontsize=15)\n",
    "plt.gcf().set_dpi(300)\n",
    "plt.show()"
   ]
  },
  {
   "cell_type": "code",
   "execution_count": null,
   "metadata": {},
   "outputs": [],
   "source": [
    "x = np.linspace(0, 10, 300)\n",
    "y1 = stats.gamma.cdf(x, a=5, scale=1/3)\n",
    "y2 = stats.gamma.cdf(x, a=9, scale=1/2)\n",
    "plt.plot(x,y1)\n",
    "plt.plot(x,y2)\n",
    "plt.xlabel(\"$x$\", fontsize=15)\n",
    "plt.ylabel(\"Cumlative density $F(x)$\", fontsize=15)\n",
    "plt.gcf().set_dpi(300)\n",
    "plt.show()"
   ]
  },
  {
   "cell_type": "markdown",
   "metadata": {},
   "source": [
    "## Shuffled Ring Topology Examples"
   ]
  },
  {
   "cell_type": "code",
   "execution_count": null,
   "metadata": {},
   "outputs": [],
   "source": [
    "options = {\n",
    "    \"with_labels\":True, \n",
    "    \"node_size\":2500, \n",
    "    \"font_color\":'white',\n",
    "    \"font_size\": 40,\n",
    "    \"width\": 5,\n",
    "}\n",
    "def draw_shell(nodes, informed_nodes = set(), highlighted_edges=set()):\n",
    "    plt.figure(dpi=400)\n",
    "    ring = nx.cycle_graph(nodes)\n",
    "    node_cmap = ['tab:red' if node in informed_nodes else 'tab:blue' for node in ring.nodes]\n",
    "    edge_cmap = ['tab:green' if edge in highlighted_edges else 'black' for edge in ring.edges]\n",
    "    nx.draw_shell(ring, **options, node_color=node_cmap, edge_color = edge_cmap)\n",
    "    plt.show()"
   ]
  },
  {
   "cell_type": "code",
   "execution_count": null,
   "metadata": {},
   "outputs": [],
   "source": [
    "draw_shell([\"$1$\",\"$2$\",\"$3$\",\"$4$\",\"$5$\",\"$6$\"])\n",
    "draw_shell([\"$3$\",\"$1$\",\"$6$\",\"$5$\",\"$4$\",\"$2$\"])\n",
    "draw_shell([\"$4$\",\"$6$\",\"$2$\",\"$5$\",\"$1$\",\"$3$\"])"
   ]
  },
  {
   "cell_type": "markdown",
   "metadata": {},
   "source": [
    "## Example Spreads"
   ]
  },
  {
   "cell_type": "markdown",
   "metadata": {},
   "source": [
    "### Static Ring"
   ]
  },
  {
   "cell_type": "code",
   "execution_count": null,
   "metadata": {},
   "outputs": [],
   "source": [
    "draw_shell([\"$1$\",\"$2$\",\"$3$\",\"$4$\",\"$5$\",\"$6$\", \"$7$\", \"$8$\"], \n",
    "            [\"$1$\", \"$2$\", \"$3$\"],\n",
    "            [(\"$1$\",\"$8$\"),(\"$3$\",\"$4$\")])"
   ]
  },
  {
   "cell_type": "markdown",
   "metadata": {},
   "source": [
    "### Shuffled Ring"
   ]
  },
  {
   "cell_type": "code",
   "execution_count": null,
   "metadata": {},
   "outputs": [],
   "source": [
    "draw_shell([\"$1$\",\"$4$\",\"$6$\",\"$2$\",\"$3$\",\"$8$\", \"$7$\", \"$5$\"], \n",
    "            [\"$1$\", \"$2$\", \"$3$\"],\n",
    "            [(\"$1$\",\"$4$\"),(\"$1$\",\"$5$\"), (\"$6$\",\"$2$\"),(\"$3$\",\"$8$\")])"
   ]
  },
  {
   "cell_type": "markdown",
   "metadata": {},
   "source": [
    "## Flooding Figures"
   ]
  },
  {
   "cell_type": "code",
   "execution_count": null,
   "metadata": {},
   "outputs": [],
   "source": [
    "fig, ax = plt.subplots()\n",
    "fig.set_dpi(400)\n",
    "ax.scatter([1,2,3,5,6],[1.2,1.5,1.6, 1.9, 2.3])\n",
    "ax.xaxis.set_ticks([1,2,3,4,5,6])\n",
    "xlabels = [\"$T_{i-1}$\",\"$T_{i-1} + 1$\", \"$T_{i-1} + 2$\", \"\\dots\", \"$T_i - 1$\", \"$T_i$\"]\n",
    "ax.set_xticklabels(xlabels)\n",
    "\n",
    "ax.set_xlim(0.5,7)\n",
    "ax.set_ylim(0,4)\n",
    "\n",
    "ylabels = [\"$h_{i-1}$\", \"$h_i$\", \"$h_{i+1}$\"]\n",
    "ax.yaxis.set_ticks(list(range(1, len(ylabels) + 1)))\n",
    "ax.set_yticklabels(ylabels)\n",
    "\n",
    "ax.set_xlabel(\"$t$\")\n",
    "ax.set_ylabel(\"$|I_t|$\")\n",
    "\n",
    "for i in [1,2,3]:\n",
    "    ax.axhline(i, color='grey', linewidth=0.5)\n",
    "plt.show()"
   ]
  },
  {
   "cell_type": "code",
   "execution_count": null,
   "metadata": {},
   "outputs": [],
   "source": [
    "fig, ax = plt.subplots()\n",
    "fig.set_dpi(400)\n",
    "ax.scatter([1,2.3],[1.7,5.4])\n",
    "\n",
    "xlabels = [\"$T_{i-1}$\",\"$T_{i-1} + 1 = T_i = T_{i+1}  = \\dots = T_j$\"]\n",
    "ax.xaxis.set_ticks([1,2.3])\n",
    "ax.set_xticklabels(xlabels)\n",
    "\n",
    "ax.set_xlim(0.5,3)\n",
    "ax.set_ylim(0,7)\n",
    "\n",
    "ylabels = [\"$h_{i-1}$\", \"$h_i$\", \"$h_{i+1}$\", \"$\\dots$\", \"$h_j$\", \"$h_{j+1}$\"]\n",
    "ax.yaxis.set_ticks(list(range(1, len(ylabels) + 1)))\n",
    "ax.set_yticklabels(ylabels)\n",
    "\n",
    "ax.set_xlabel(\"Time, $t$\")\n",
    "ax.set_ylabel(\"Number of informed nodes at time $t$, $|I_t|$\")\n",
    "\n",
    "for i in [1,2,3,5,6]:\n",
    "    ax.axhline(i, color='grey', linewidth=0.5)\n",
    "plt.show()"
   ]
  }
 ],
 "metadata": {
  "interpreter": {
   "hash": "c997d4da5b00dd4ce73a41e3ace39d136355bf5b5b5fa33c434012ee64a8d7cd"
  },
  "kernelspec": {
   "display_name": "Python 3.8.10 ('simulations': venv)",
   "language": "python",
   "name": "python3"
  },
  "language_info": {
   "codemirror_mode": {
    "name": "ipython",
    "version": 3
   },
   "file_extension": ".py",
   "mimetype": "text/x-python",
   "name": "python",
   "nbconvert_exporter": "python",
   "pygments_lexer": "ipython3",
   "version": "3.8.10"
  },
  "orig_nbformat": 4
 },
 "nbformat": 4,
 "nbformat_minor": 2
}
